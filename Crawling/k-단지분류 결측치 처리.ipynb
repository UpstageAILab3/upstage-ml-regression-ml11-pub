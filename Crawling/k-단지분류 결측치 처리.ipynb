{
 "cells": [
  {
   "cell_type": "code",
   "execution_count": null,
   "metadata": {},
   "outputs": [],
   "source": [
    "data['k-단지분류(아파트,주상복합등등)'] = data['k-단지분류(아파트,주상복합등등)'].fillna('unknown')\n",
    "data = data.rename(columns={'k-단지분류(아파트,주상복합등등)':'부동산유형'})\n",
    "data.head()"
   ]
  },
  {
   "cell_type": "code",
   "execution_count": null,
   "metadata": {},
   "outputs": [],
   "source": [
    "rows = data[data['부동산유형'] == '주상복합']\n",
    "unique_rows = rows[['구', '도로명']].drop_duplicates()\n",
    "\n",
    "for i, (index, row) in enumerate(unique_rows.iterrows()):\n",
    "    if i == 10:\n",
    "        break\n",
    "\n",
    "    print(row['구'], row['도로명'])"
   ]
  },
  {
   "cell_type": "code",
   "execution_count": null,
   "metadata": {},
   "outputs": [],
   "source": [
    "rows = data[data['부동산유형'] == '도시형 생활주택(주상복합)']\n",
    "unique_rows = rows[['구', '도로명']].drop_duplicates()\n",
    "\n",
    "for i, (index, row) in enumerate(unique_rows.iterrows()):\n",
    "    if i == 10:\n",
    "        break\n",
    "\n",
    "    print(row['구'], row['도로명'])"
   ]
  }
 ],
 "metadata": {
  "language_info": {
   "name": "python"
  }
 },
 "nbformat": 4,
 "nbformat_minor": 2
}

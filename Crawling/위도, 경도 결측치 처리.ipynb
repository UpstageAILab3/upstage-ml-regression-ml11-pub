{
 "cells": [
  {
   "cell_type": "code",
   "execution_count": null,
   "metadata": {},
   "outputs": [],
   "source": [
    "import os\n",
    "import time\n",
    "import pandas as pd\n",
    "\n",
    "from selenium import webdriver\n",
    "from selenium.webdriver.common.by import By\n",
    "from selenium.webdriver.common.keys import Keys\n",
    "from webdriver_manager.chrome import ChromeDriverManager"
   ]
  },
  {
   "cell_type": "code",
   "execution_count": null,
   "metadata": {},
   "outputs": [],
   "source": [
    "data_dir = \"/Users/pervin0527/upstage-ml-regression-ml11/data/new\"\n",
    "train_data = pd.read_csv(f\"{data_dir}/new_train.csv\")\n",
    "test_data = pd.read_csv(f\"{data_dir}/new_test.csv\")"
   ]
  },
  {
   "cell_type": "code",
   "execution_count": null,
   "metadata": {},
   "outputs": [],
   "source": [
    "train_data.isnull().sum()"
   ]
  },
  {
   "cell_type": "code",
   "execution_count": null,
   "metadata": {},
   "outputs": [],
   "source": [
    "test_data.isnull().sum()"
   ]
  },
  {
   "cell_type": "code",
   "execution_count": null,
   "metadata": {},
   "outputs": [],
   "source": [
    "train_data['is_test'] = 0\n",
    "test_data['is_test'] = 1\n",
    "\n",
    "data = pd.concat([train_data, test_data])\n",
    "data['is_test'].value_counts() "
   ]
  },
  {
   "cell_type": "code",
   "execution_count": null,
   "metadata": {},
   "outputs": [],
   "source": [
    "missing_data = data[data[['좌표X', '좌표Y']].isnull().any(axis=1)]\n",
    "print(len(missing_data))"
   ]
  },
  {
   "cell_type": "code",
   "execution_count": null,
   "metadata": {},
   "outputs": [],
   "source": [
    "values = []\n",
    "for i, (index, row) in enumerate(missing_data.iterrows()):\n",
    "    city = row['시군구']\n",
    "    road_name = row['도로명']\n",
    "\n",
    "    value = ' '.join(city.split(' ')[:-1]) + \" \" + road_name\n",
    "    values.append(value)\n",
    "\n",
    "print(len(values))\n",
    "\n",
    "values_set = set(values)\n",
    "print(values_set)"
   ]
  },
  {
   "cell_type": "code",
   "execution_count": null,
   "metadata": {},
   "outputs": [],
   "source": [
    "url = \"https://www.findlatlng.org/\"\n",
    "browser = webdriver.Chrome()\n",
    "browser.get(url)\n",
    "\n",
    "results = {}\n",
    "for idx, value in enumerate(values_set):\n",
    "    print(f\"{idx:>08}, 검색어: {value}\")\n",
    "\n",
    "    search_element = browser.find_element(By.CLASS_NAME, \"form-control\")\n",
    "    if idx > 0:\n",
    "        search_element.clear()\n",
    "    \n",
    "    search_element.send_keys(value)\n",
    "    search_element.send_keys(Keys.RETURN)\n",
    "    time.sleep(3)\n",
    "\n",
    "    address_div = browser.find_element(By.XPATH, '//*[@id=\"app\"]/div/div[3]')\n",
    "    text_content = address_div.text\n",
    "    \n",
    "    lines = text_content.split('\\n')\n",
    "    for line in lines:\n",
    "        if \"위도(Latitude)\" in line:\n",
    "            latitude = line.split(': ')[1].split(' /')[0].strip()\n",
    "        if \"경도(Longitude)\" in line:\n",
    "            longitude = line.split(': ')[2].strip()\n",
    "    \n",
    "    # 결과를 딕셔너리에 저장\n",
    "    results[value] = {'Y좌표': latitude, 'X좌표': longitude}\n",
    "    print(f\"X좌표: {longitude}, Y좌표: {latitude}\\n\")"
   ]
  },
  {
   "cell_type": "code",
   "execution_count": null,
   "metadata": {},
   "outputs": [],
   "source": [
    "for i, (index, row) in enumerate(missing_data.iterrows()):\n",
    "    city = row['시군구']\n",
    "    road_name = row['도로명']\n",
    "    value = ' '.join(city.split(' ')[:-1]) + \" \" + road_name\n",
    "\n",
    "    if value in results:\n",
    "        y, x = results[value]\n",
    "        missing_data.loc[index, 'X좌표'] = float(x)\n",
    "        missing_data.loc[index, 'Y좌표'] = float(y)\n",
    "\n",
    "data.update(missing_data)\n",
    "\n",
    "train_df = data[data['is_test'] == 0].drop(columns=['is_test'])\n",
    "test_df = data[data['is_test'] == 1].drop(columns=['is_test'])\n",
    "\n",
    "os.makedirs(f'{data_dir}/new', exist_ok=True)\n",
    "train_df.to_csv(f'{data_dir}/new/new_train.csv', index=False)\n",
    "test_df.to_csv(f'{data_dir}/new/new_test.csv', index=False)\n",
    "\n",
    "browser.quit()"
   ]
  }
 ],
 "metadata": {
  "kernelspec": {
   "display_name": "base",
   "language": "python",
   "name": "python3"
  },
  "language_info": {
   "codemirror_mode": {
    "name": "ipython",
    "version": 3
   },
   "file_extension": ".py",
   "mimetype": "text/x-python",
   "name": "python",
   "nbconvert_exporter": "python",
   "pygments_lexer": "ipython3",
   "version": "3.9.13"
  }
 },
 "nbformat": 4,
 "nbformat_minor": 2
}

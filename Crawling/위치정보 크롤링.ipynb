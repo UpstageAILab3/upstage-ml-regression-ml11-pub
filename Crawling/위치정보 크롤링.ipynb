{
 "cells": [
  {
   "cell_type": "code",
   "execution_count": 1,
   "metadata": {},
   "outputs": [],
   "source": [
    "import time\n",
    "\n",
    "from selenium import webdriver\n",
    "from selenium.webdriver.common.by import By\n",
    "from selenium.webdriver.common.keys import Keys\n",
    "from webdriver_manager.chrome import ChromeDriverManager"
   ]
  },
  {
   "cell_type": "code",
   "execution_count": 2,
   "metadata": {},
   "outputs": [
    {
     "data": {
      "text/plain": [
       "'/Users/pervin0527/.wdm/drivers/chromedriver/mac64/126.0.6478.126/chromedriver-mac-x64/chromedriver'"
      ]
     },
     "execution_count": 2,
     "metadata": {},
     "output_type": "execute_result"
    }
   ],
   "source": [
    "ChromeDriverManager().install()"
   ]
  },
  {
   "cell_type": "code",
   "execution_count": 3,
   "metadata": {},
   "outputs": [],
   "source": [
    "url = \"https://www.naver.com/\"\n",
    "\n",
    "browser = webdriver.Chrome()\n",
    "browser.get(url)"
   ]
  },
  {
   "cell_type": "code",
   "execution_count": 4,
   "metadata": {},
   "outputs": [],
   "source": [
    "with open('../EDA/address.txt', 'r') as file:\n",
    "    lines = file.readlines()"
   ]
  },
  {
   "cell_type": "code",
   "execution_count": 5,
   "metadata": {},
   "outputs": [
    {
     "name": "stdout",
     "output_type": "stream",
     "text": [
      "서울특별시 마포구 월드컵로26길 13\n",
      "--->서울특별시 마포구 성산동 254-8--->['서울특별시', '마포구', '성산동'] 254 8 \n",
      "\n",
      "서울특별시 금천구 문성로 15\n",
      "--->서울특별시 금천구 독산동 888-18--->['서울특별시', '금천구', '독산동'] 888 18 \n",
      "\n",
      "서울특별시 구로구 도림로3길 3-6\n",
      "--->서울특별시 구로구 구로동 806-15--->['서울특별시', '구로구', '구로동'] 806 15 \n",
      "\n",
      "서울특별시 양천구 목동중앙본로1길 5\n",
      "--->서울특별시 양천구 목동 948--->['서울특별시', '양천구', '목동'] 948 \n",
      "\n",
      "서울특별시 광진구 긴고랑로4길 53\n",
      "--->서울특별시 광진구 중곡동 254-12--->['서울특별시', '광진구', '중곡동'] 254 12 \n",
      "\n",
      "서울특별시 도봉구 시루봉로2길 90\n",
      "--->서울특별시 도봉구 쌍문동 158-1--->['서울특별시', '도봉구', '쌍문동'] 158 1 \n",
      "\n",
      "서울특별시 양천구 화곡로 85\n",
      "--->서울특별시 양천구 신월동 1059--->['서울특별시', '양천구', '신월동'] 1059 \n",
      "\n",
      "서울특별시 중랑구 봉우재로 155\n",
      "--->서울특별시 중랑구 상봉동 87-27--->['서울특별시', '중랑구', '상봉동'] 87 27 \n",
      "\n",
      "서울특별시 구로구 디지털로27라길 6-19\n",
      "--->서울특별시 구로구 구로동 797-19--->['서울특별시', '구로구', '구로동'] 797 19 \n",
      "\n",
      "서울특별시 강서구 등촌로13바길 18-11\n",
      "--->서울특별시 강서구 화곡동 1150--->['서울특별시', '강서구', '화곡동'] 1150 \n",
      "\n"
     ]
    }
   ],
   "source": [
    "for idx, line in enumerate(lines[:10]):\n",
    "    splited = line.split(',')\n",
    "    front = splited[0].split(' ')[:-1]\n",
    "    back = splited[1]\n",
    "    address = ' '.join(front) + ''.join(back)\n",
    "\n",
    "    print(address, end='--->')\n",
    "    if idx == 0:\n",
    "        search_element = browser.find_element(By.ID, \"query\")\n",
    "        search_element.send_keys(address)\n",
    "    else:\n",
    "        search_element = browser.find_element(By.ID, \"nx_query\")\n",
    "        search_element.clear()\n",
    "        search_element.send_keys(address)\n",
    "\n",
    "    target = browser.find_element(By.CLASS_NAME, 'L9_SH').text\n",
    "    print(target, end='--->')\n",
    "\n",
    "    splited = target.split(' ')\n",
    "    district = ' '.join(splited[:3])\n",
    "    main_number = splited[-1]\n",
    "\n",
    "    if \"-\" in main_number:\n",
    "        splited = main_number.split('-')\n",
    "        main_number = splited[0]\n",
    "        sub_numer = splited[1]\n",
    "        print(district, main_number, sub_numer, '\\n')\n",
    "    \n",
    "    else:\n",
    "        print(district, main_number, '\\n')\n",
    "\n",
    "    time.sleep(2)"
   ]
  },
  {
   "cell_type": "code",
   "execution_count": null,
   "metadata": {},
   "outputs": [],
   "source": []
  }
 ],
 "metadata": {
  "kernelspec": {
   "display_name": "DL",
   "language": "python",
   "name": "python3"
  },
  "language_info": {
   "codemirror_mode": {
    "name": "ipython",
    "version": 3
   },
   "file_extension": ".py",
   "mimetype": "text/x-python",
   "name": "python",
   "nbconvert_exporter": "python",
   "pygments_lexer": "ipython3",
   "version": "3.9.13"
  }
 },
 "nbformat": 4,
 "nbformat_minor": 2
}
